{
 "cells": [
  {
   "cell_type": "code",
   "execution_count": 106,
   "id": "bc1441c3",
   "metadata": {},
   "outputs": [],
   "source": [
    "import pandas as pd\n",
    "import numpy as np\n",
    "import matplotlib.pyplot as plt "
   ]
  },
  {
   "cell_type": "code",
   "execution_count": 107,
   "id": "7c9daf74",
   "metadata": {},
   "outputs": [],
   "source": [
    "df = pd.read_csv(\"../framingham.csv\")"
   ]
  },
  {
   "cell_type": "code",
   "execution_count": 108,
   "id": "e920d072",
   "metadata": {},
   "outputs": [
    {
     "name": "stdout",
     "output_type": "stream",
     "text": [
      "<class 'pandas.core.frame.DataFrame'>\n",
      "RangeIndex: 4240 entries, 0 to 4239\n",
      "Data columns (total 16 columns):\n",
      " #   Column           Non-Null Count  Dtype  \n",
      "---  ------           --------------  -----  \n",
      " 0   Sex              4240 non-null   object \n",
      " 1   age              4240 non-null   int64  \n",
      " 2   education        4135 non-null   float64\n",
      " 3   currentSmoker    4240 non-null   object \n",
      " 4   cigsPerDay       4211 non-null   float64\n",
      " 5   BPMeds           4187 non-null   float64\n",
      " 6   prevalentStroke  4240 non-null   int64  \n",
      " 7   prevalentHyp     4240 non-null   int64  \n",
      " 8   diabetes         4240 non-null   object \n",
      " 9   totChol          4190 non-null   float64\n",
      " 10  sysBP            4240 non-null   float64\n",
      " 11  diaBP            4240 non-null   float64\n",
      " 12  BMI              4221 non-null   float64\n",
      " 13  heartRate        4239 non-null   float64\n",
      " 14  glucose          3852 non-null   float64\n",
      " 15  TenYearCHD       4240 non-null   int64  \n",
      "dtypes: float64(9), int64(4), object(3)\n",
      "memory usage: 530.1+ KB\n"
     ]
    }
   ],
   "source": [
    "df.info()"
   ]
  },
  {
   "cell_type": "code",
   "execution_count": 109,
   "id": "273de99e",
   "metadata": {},
   "outputs": [
    {
     "data": {
      "text/plain": [
       "female    2420\n",
       "male      1820\n",
       "Name: Sex, dtype: int64"
      ]
     },
     "execution_count": 109,
     "metadata": {},
     "output_type": "execute_result"
    }
   ],
   "source": [
    "df[\"Sex\"].value_counts()"
   ]
  },
  {
   "cell_type": "code",
   "execution_count": 110,
   "id": "6bd9d797",
   "metadata": {},
   "outputs": [
    {
     "data": {
      "text/plain": [
       "No     2145\n",
       "Yes    2095\n",
       "Name: currentSmoker, dtype: int64"
      ]
     },
     "execution_count": 110,
     "metadata": {},
     "output_type": "execute_result"
    }
   ],
   "source": [
    "df[\"currentSmoker\"].value_counts()"
   ]
  },
  {
   "cell_type": "code",
   "execution_count": 111,
   "id": "8c4fa8e7",
   "metadata": {},
   "outputs": [
    {
     "data": {
      "text/plain": [
       "No     4131\n",
       "Yes     109\n",
       "Name: diabetes, dtype: int64"
      ]
     },
     "execution_count": 111,
     "metadata": {},
     "output_type": "execute_result"
    }
   ],
   "source": [
    "df[\"diabetes\"].value_counts()"
   ]
  },
  {
   "cell_type": "code",
   "execution_count": 112,
   "id": "45f45100",
   "metadata": {},
   "outputs": [],
   "source": [
    "def convertSex(sex):\n",
    "    if sex == \"male\":\n",
    "        return 1\n",
    "    else:\n",
    "        return 0"
   ]
  },
  {
   "cell_type": "code",
   "execution_count": 113,
   "id": "5485e20f",
   "metadata": {},
   "outputs": [],
   "source": [
    "def convertCurrentSmoker(status):\n",
    "    if status == \"No\":\n",
    "        return 0\n",
    "    else:\n",
    "        return 1"
   ]
  },
  {
   "cell_type": "code",
   "execution_count": 114,
   "id": "53af8600",
   "metadata": {},
   "outputs": [],
   "source": [
    "def convertDiabetes(status):\n",
    "    if status == \"No\":\n",
    "        return 0\n",
    "    else:\n",
    "        return 1"
   ]
  },
  {
   "cell_type": "code",
   "execution_count": 115,
   "id": "f5a6562a",
   "metadata": {},
   "outputs": [],
   "source": [
    "df[\"Sex\"] = df[\"Sex\"].apply(convertSex)\n",
    "df[\"currentSmoker\"] = df[\"currentSmoker\"].apply(convertCurrentSmoker)\n",
    "df[\"diabetes\"] = df[\"diabetes\"].apply(convertDiabetes)"
   ]
  },
  {
   "cell_type": "code",
   "execution_count": 116,
   "id": "375d3014",
   "metadata": {},
   "outputs": [
    {
     "data": {
      "text/plain": [
       "0    2420\n",
       "1    1820\n",
       "Name: Sex, dtype: int64"
      ]
     },
     "execution_count": 116,
     "metadata": {},
     "output_type": "execute_result"
    }
   ],
   "source": [
    "df[\"Sex\"].value_counts()"
   ]
  },
  {
   "cell_type": "code",
   "execution_count": 117,
   "id": "5dcdf2f5",
   "metadata": {},
   "outputs": [
    {
     "data": {
      "text/plain": [
       "0    2145\n",
       "1    2095\n",
       "Name: currentSmoker, dtype: int64"
      ]
     },
     "execution_count": 117,
     "metadata": {},
     "output_type": "execute_result"
    }
   ],
   "source": [
    "df[\"currentSmoker\"].value_counts()"
   ]
  },
  {
   "cell_type": "code",
   "execution_count": 118,
   "id": "5b57c0c1",
   "metadata": {},
   "outputs": [
    {
     "data": {
      "text/plain": [
       "0    4131\n",
       "1     109\n",
       "Name: diabetes, dtype: int64"
      ]
     },
     "execution_count": 118,
     "metadata": {},
     "output_type": "execute_result"
    }
   ],
   "source": [
    "df[\"diabetes\"].value_counts()"
   ]
  },
  {
   "cell_type": "code",
   "execution_count": 119,
   "id": "24ae23ef",
   "metadata": {},
   "outputs": [
    {
     "data": {
      "text/html": [
       "<div>\n",
       "<style scoped>\n",
       "    .dataframe tbody tr th:only-of-type {\n",
       "        vertical-align: middle;\n",
       "    }\n",
       "\n",
       "    .dataframe tbody tr th {\n",
       "        vertical-align: top;\n",
       "    }\n",
       "\n",
       "    .dataframe thead th {\n",
       "        text-align: right;\n",
       "    }\n",
       "</style>\n",
       "<table border=\"1\" class=\"dataframe\">\n",
       "  <thead>\n",
       "    <tr style=\"text-align: right;\">\n",
       "      <th></th>\n",
       "      <th>Sex</th>\n",
       "      <th>age</th>\n",
       "      <th>education</th>\n",
       "      <th>currentSmoker</th>\n",
       "      <th>cigsPerDay</th>\n",
       "      <th>BPMeds</th>\n",
       "      <th>prevalentStroke</th>\n",
       "      <th>prevalentHyp</th>\n",
       "      <th>diabetes</th>\n",
       "      <th>totChol</th>\n",
       "      <th>sysBP</th>\n",
       "      <th>diaBP</th>\n",
       "      <th>BMI</th>\n",
       "      <th>heartRate</th>\n",
       "      <th>glucose</th>\n",
       "      <th>TenYearCHD</th>\n",
       "    </tr>\n",
       "  </thead>\n",
       "  <tbody>\n",
       "    <tr>\n",
       "      <th>count</th>\n",
       "      <td>4240.000000</td>\n",
       "      <td>4240.000000</td>\n",
       "      <td>4135.000000</td>\n",
       "      <td>4240.000000</td>\n",
       "      <td>4211.000000</td>\n",
       "      <td>4187.000000</td>\n",
       "      <td>4240.000000</td>\n",
       "      <td>4240.000000</td>\n",
       "      <td>4240.000000</td>\n",
       "      <td>4190.000000</td>\n",
       "      <td>4240.000000</td>\n",
       "      <td>4240.000000</td>\n",
       "      <td>4221.000000</td>\n",
       "      <td>4239.000000</td>\n",
       "      <td>3852.000000</td>\n",
       "      <td>4240.000000</td>\n",
       "    </tr>\n",
       "    <tr>\n",
       "      <th>mean</th>\n",
       "      <td>0.429245</td>\n",
       "      <td>49.580189</td>\n",
       "      <td>1.979444</td>\n",
       "      <td>0.494104</td>\n",
       "      <td>9.005937</td>\n",
       "      <td>0.029615</td>\n",
       "      <td>0.005896</td>\n",
       "      <td>0.310613</td>\n",
       "      <td>0.025708</td>\n",
       "      <td>236.699523</td>\n",
       "      <td>132.354599</td>\n",
       "      <td>82.897759</td>\n",
       "      <td>25.800801</td>\n",
       "      <td>75.878981</td>\n",
       "      <td>81.963655</td>\n",
       "      <td>0.151887</td>\n",
       "    </tr>\n",
       "    <tr>\n",
       "      <th>std</th>\n",
       "      <td>0.495027</td>\n",
       "      <td>8.572942</td>\n",
       "      <td>1.019791</td>\n",
       "      <td>0.500024</td>\n",
       "      <td>11.922462</td>\n",
       "      <td>0.169544</td>\n",
       "      <td>0.076569</td>\n",
       "      <td>0.462799</td>\n",
       "      <td>0.158280</td>\n",
       "      <td>44.591284</td>\n",
       "      <td>22.033300</td>\n",
       "      <td>11.910394</td>\n",
       "      <td>4.079840</td>\n",
       "      <td>12.025348</td>\n",
       "      <td>23.954335</td>\n",
       "      <td>0.358953</td>\n",
       "    </tr>\n",
       "    <tr>\n",
       "      <th>min</th>\n",
       "      <td>0.000000</td>\n",
       "      <td>32.000000</td>\n",
       "      <td>1.000000</td>\n",
       "      <td>0.000000</td>\n",
       "      <td>0.000000</td>\n",
       "      <td>0.000000</td>\n",
       "      <td>0.000000</td>\n",
       "      <td>0.000000</td>\n",
       "      <td>0.000000</td>\n",
       "      <td>107.000000</td>\n",
       "      <td>83.500000</td>\n",
       "      <td>48.000000</td>\n",
       "      <td>15.540000</td>\n",
       "      <td>44.000000</td>\n",
       "      <td>40.000000</td>\n",
       "      <td>0.000000</td>\n",
       "    </tr>\n",
       "    <tr>\n",
       "      <th>25%</th>\n",
       "      <td>0.000000</td>\n",
       "      <td>42.000000</td>\n",
       "      <td>1.000000</td>\n",
       "      <td>0.000000</td>\n",
       "      <td>0.000000</td>\n",
       "      <td>0.000000</td>\n",
       "      <td>0.000000</td>\n",
       "      <td>0.000000</td>\n",
       "      <td>0.000000</td>\n",
       "      <td>206.000000</td>\n",
       "      <td>117.000000</td>\n",
       "      <td>75.000000</td>\n",
       "      <td>23.070000</td>\n",
       "      <td>68.000000</td>\n",
       "      <td>71.000000</td>\n",
       "      <td>0.000000</td>\n",
       "    </tr>\n",
       "    <tr>\n",
       "      <th>50%</th>\n",
       "      <td>0.000000</td>\n",
       "      <td>49.000000</td>\n",
       "      <td>2.000000</td>\n",
       "      <td>0.000000</td>\n",
       "      <td>0.000000</td>\n",
       "      <td>0.000000</td>\n",
       "      <td>0.000000</td>\n",
       "      <td>0.000000</td>\n",
       "      <td>0.000000</td>\n",
       "      <td>234.000000</td>\n",
       "      <td>128.000000</td>\n",
       "      <td>82.000000</td>\n",
       "      <td>25.400000</td>\n",
       "      <td>75.000000</td>\n",
       "      <td>78.000000</td>\n",
       "      <td>0.000000</td>\n",
       "    </tr>\n",
       "    <tr>\n",
       "      <th>75%</th>\n",
       "      <td>1.000000</td>\n",
       "      <td>56.000000</td>\n",
       "      <td>3.000000</td>\n",
       "      <td>1.000000</td>\n",
       "      <td>20.000000</td>\n",
       "      <td>0.000000</td>\n",
       "      <td>0.000000</td>\n",
       "      <td>1.000000</td>\n",
       "      <td>0.000000</td>\n",
       "      <td>263.000000</td>\n",
       "      <td>144.000000</td>\n",
       "      <td>90.000000</td>\n",
       "      <td>28.040000</td>\n",
       "      <td>83.000000</td>\n",
       "      <td>87.000000</td>\n",
       "      <td>0.000000</td>\n",
       "    </tr>\n",
       "    <tr>\n",
       "      <th>max</th>\n",
       "      <td>1.000000</td>\n",
       "      <td>70.000000</td>\n",
       "      <td>4.000000</td>\n",
       "      <td>1.000000</td>\n",
       "      <td>70.000000</td>\n",
       "      <td>1.000000</td>\n",
       "      <td>1.000000</td>\n",
       "      <td>1.000000</td>\n",
       "      <td>1.000000</td>\n",
       "      <td>696.000000</td>\n",
       "      <td>295.000000</td>\n",
       "      <td>142.500000</td>\n",
       "      <td>56.800000</td>\n",
       "      <td>143.000000</td>\n",
       "      <td>394.000000</td>\n",
       "      <td>1.000000</td>\n",
       "    </tr>\n",
       "  </tbody>\n",
       "</table>\n",
       "</div>"
      ],
      "text/plain": [
       "               Sex          age    education  currentSmoker   cigsPerDay  \\\n",
       "count  4240.000000  4240.000000  4135.000000    4240.000000  4211.000000   \n",
       "mean      0.429245    49.580189     1.979444       0.494104     9.005937   \n",
       "std       0.495027     8.572942     1.019791       0.500024    11.922462   \n",
       "min       0.000000    32.000000     1.000000       0.000000     0.000000   \n",
       "25%       0.000000    42.000000     1.000000       0.000000     0.000000   \n",
       "50%       0.000000    49.000000     2.000000       0.000000     0.000000   \n",
       "75%       1.000000    56.000000     3.000000       1.000000    20.000000   \n",
       "max       1.000000    70.000000     4.000000       1.000000    70.000000   \n",
       "\n",
       "            BPMeds  prevalentStroke  prevalentHyp     diabetes      totChol  \\\n",
       "count  4187.000000      4240.000000   4240.000000  4240.000000  4190.000000   \n",
       "mean      0.029615         0.005896      0.310613     0.025708   236.699523   \n",
       "std       0.169544         0.076569      0.462799     0.158280    44.591284   \n",
       "min       0.000000         0.000000      0.000000     0.000000   107.000000   \n",
       "25%       0.000000         0.000000      0.000000     0.000000   206.000000   \n",
       "50%       0.000000         0.000000      0.000000     0.000000   234.000000   \n",
       "75%       0.000000         0.000000      1.000000     0.000000   263.000000   \n",
       "max       1.000000         1.000000      1.000000     1.000000   696.000000   \n",
       "\n",
       "             sysBP        diaBP          BMI    heartRate      glucose  \\\n",
       "count  4240.000000  4240.000000  4221.000000  4239.000000  3852.000000   \n",
       "mean    132.354599    82.897759    25.800801    75.878981    81.963655   \n",
       "std      22.033300    11.910394     4.079840    12.025348    23.954335   \n",
       "min      83.500000    48.000000    15.540000    44.000000    40.000000   \n",
       "25%     117.000000    75.000000    23.070000    68.000000    71.000000   \n",
       "50%     128.000000    82.000000    25.400000    75.000000    78.000000   \n",
       "75%     144.000000    90.000000    28.040000    83.000000    87.000000   \n",
       "max     295.000000   142.500000    56.800000   143.000000   394.000000   \n",
       "\n",
       "        TenYearCHD  \n",
       "count  4240.000000  \n",
       "mean      0.151887  \n",
       "std       0.358953  \n",
       "min       0.000000  \n",
       "25%       0.000000  \n",
       "50%       0.000000  \n",
       "75%       0.000000  \n",
       "max       1.000000  "
      ]
     },
     "execution_count": 119,
     "metadata": {},
     "output_type": "execute_result"
    }
   ],
   "source": [
    "df.head()\n",
    "df.describe()"
   ]
  },
  {
   "cell_type": "markdown",
   "id": "967d5150",
   "metadata": {},
   "source": [
    "## checking for null values"
   ]
  },
  {
   "cell_type": "code",
   "execution_count": 120,
   "id": "d517c27e",
   "metadata": {},
   "outputs": [
    {
     "name": "stdout",
     "output_type": "stream",
     "text": [
      "                 total null values\n",
      "Sex                              0\n",
      "age                              0\n",
      "education                      105\n",
      "currentSmoker                    0\n",
      "cigsPerDay                      29\n",
      "BPMeds                          53\n",
      "prevalentStroke                  0\n",
      "prevalentHyp                     0\n",
      "diabetes                         0\n",
      "totChol                         50\n",
      "sysBP                            0\n",
      "diaBP                            0\n",
      "BMI                             19\n",
      "heartRate                        1\n",
      "glucose                        388\n",
      "TenYearCHD                       0\n"
     ]
    },
    {
     "data": {
      "text/plain": [
       "<AxesSubplot:>"
      ]
     },
     "execution_count": 120,
     "metadata": {},
     "output_type": "execute_result"
    },
    {
     "data": {
      "image/png": "[encoded data removed]",
      "text/plain": [
       "<Figure size 432x288 with 1 Axes>"
      ]
     },
     "metadata": {
      "needs_background": "light"
     },
     "output_type": "display_data"
    }
   ],
   "source": [
    "null_value_counts = df.isnull().sum()\n",
    "print(pd.concat([null_value_counts], axis = 1, keys = [\"total null values\"]))\n",
    "df.isnull().sum().plot(kind = \"bar\")"
   ]
  },
  {
   "cell_type": "code",
   "execution_count": 121,
   "id": "bdd39c46",
   "metadata": {},
   "outputs": [],
   "source": [
    "df = df.dropna()"
   ]
  },
  {
   "cell_type": "code",
   "execution_count": 122,
   "id": "962dc22e",
   "metadata": {},
   "outputs": [
    {
     "name": "stdout",
     "output_type": "stream",
     "text": [
      "                 total null values\n",
      "Sex                              0\n",
      "age                              0\n",
      "education                        0\n",
      "currentSmoker                    0\n",
      "cigsPerDay                       0\n",
      "BPMeds                           0\n",
      "prevalentStroke                  0\n",
      "prevalentHyp                     0\n",
      "diabetes                         0\n",
      "totChol                          0\n",
      "sysBP                            0\n",
      "diaBP                            0\n",
      "BMI                              0\n",
      "heartRate                        0\n",
      "glucose                          0\n",
      "TenYearCHD                       0\n"
     ]
    }
   ],
   "source": [
    "null_value_counts = df.isnull().sum()\n",
    "print(pd.concat([null_value_counts], axis = 1, keys = [\"total null values\"]))"
   ]
  },
  {
   "cell_type": "code",
   "execution_count": 123,
   "id": "e168fb6c",
   "metadata": {},
   "outputs": [
    {
     "name": "stdout",
     "output_type": "stream",
     "text": [
      "<class 'pandas.core.frame.DataFrame'>\n",
      "Int64Index: 3658 entries, 0 to 4239\n",
      "Data columns (total 16 columns):\n",
      " #   Column           Non-Null Count  Dtype  \n",
      "---  ------           --------------  -----  \n",
      " 0   Sex              3658 non-null   int64  \n",
      " 1   age              3658 non-null   int64  \n",
      " 2   education        3658 non-null   float64\n",
      " 3   currentSmoker    3658 non-null   int64  \n",
      " 4   cigsPerDay       3658 non-null   float64\n",
      " 5   BPMeds           3658 non-null   float64\n",
      " 6   prevalentStroke  3658 non-null   int64  \n",
      " 7   prevalentHyp     3658 non-null   int64  \n",
      " 8   diabetes         3658 non-null   int64  \n",
      " 9   totChol          3658 non-null   float64\n",
      " 10  sysBP            3658 non-null   float64\n",
      " 11  diaBP            3658 non-null   float64\n",
      " 12  BMI              3658 non-null   float64\n",
      " 13  heartRate        3658 non-null   float64\n",
      " 14  glucose          3658 non-null   float64\n",
      " 15  TenYearCHD       3658 non-null   int64  \n",
      "dtypes: float64(9), int64(7)\n",
      "memory usage: 485.8 KB\n"
     ]
    }
   ],
   "source": [
    "df.info()"
   ]
  },
  {
   "cell_type": "code",
   "execution_count": 124,
   "id": "00bb57f8",
   "metadata": {},
   "outputs": [
    {
     "data": {
      "text/plain": [
       "0    3101\n",
       "1     557\n",
       "Name: TenYearCHD, dtype: int64"
      ]
     },
     "execution_count": 124,
     "metadata": {},
     "output_type": "execute_result"
    }
   ],
   "source": [
    "df[\"TenYearCHD\"].value_counts()"
   ]
  },
  {
   "cell_type": "code",
   "execution_count": 125,
   "id": "23d966e0",
   "metadata": {},
   "outputs": [
    {
     "data": {
      "text/plain": [
       "<AxesSubplot:>"
      ]
     },
     "execution_count": 125,
     "metadata": {},
     "output_type": "execute_result"
    },
    {
     "data": {
      "image/png": "[encoded data removed]",
      "text/plain": [
       "<Figure size 432x288 with 1 Axes>"
      ]
     },
     "metadata": {
      "needs_background": "light"
     },
     "output_type": "display_data"
    }
   ],
   "source": [
    "df[\"TenYearCHD\"].value_counts().plot(kind='bar')"
   ]
  },
  {
   "cell_type": "code",
   "execution_count": 126,
   "id": "4721c009",
   "metadata": {},
   "outputs": [],
   "source": [
    "_X = df.drop(labels=\"TenYearCHD\", axis=1)\n",
    "_Y = df[\"TenYearCHD\"]"
   ]
  },
  {
   "cell_type": "code",
   "execution_count": 127,
   "id": "6ea14154",
   "metadata": {},
   "outputs": [
    {
     "data": {
      "text/html": [
       "<div>\n",
       "<style scoped>\n",
       "    .dataframe tbody tr th:only-of-type {\n",
       "        vertical-align: middle;\n",
       "    }\n",
       "\n",
       "    .dataframe tbody tr th {\n",
       "        vertical-align: top;\n",
       "    }\n",
       "\n",
       "    .dataframe thead th {\n",
       "        text-align: right;\n",
       "    }\n",
       "</style>\n",
       "<table border=\"1\" class=\"dataframe\">\n",
       "  <thead>\n",
       "    <tr style=\"text-align: right;\">\n",
       "      <th></th>\n",
       "      <th>Sex</th>\n",
       "      <th>age</th>\n",
       "      <th>education</th>\n",
       "      <th>currentSmoker</th>\n",
       "      <th>cigsPerDay</th>\n",
       "      <th>BPMeds</th>\n",
       "      <th>prevalentStroke</th>\n",
       "      <th>prevalentHyp</th>\n",
       "      <th>diabetes</th>\n",
       "      <th>totChol</th>\n",
       "      <th>sysBP</th>\n",
       "      <th>diaBP</th>\n",
       "      <th>BMI</th>\n",
       "      <th>heartRate</th>\n",
       "      <th>glucose</th>\n",
       "    </tr>\n",
       "  </thead>\n",
       "  <tbody>\n",
       "    <tr>\n",
       "      <th>0</th>\n",
       "      <td>1</td>\n",
       "      <td>39</td>\n",
       "      <td>4.0</td>\n",
       "      <td>0</td>\n",
       "      <td>0.0</td>\n",
       "      <td>0.0</td>\n",
       "      <td>0</td>\n",
       "      <td>0</td>\n",
       "      <td>0</td>\n",
       "      <td>195.0</td>\n",
       "      <td>106.0</td>\n",
       "      <td>70.0</td>\n",
       "      <td>26.97</td>\n",
       "      <td>80.0</td>\n",
       "      <td>77.0</td>\n",
       "    </tr>\n",
       "    <tr>\n",
       "      <th>1</th>\n",
       "      <td>0</td>\n",
       "      <td>46</td>\n",
       "      <td>2.0</td>\n",
       "      <td>0</td>\n",
       "      <td>0.0</td>\n",
       "      <td>0.0</td>\n",
       "      <td>0</td>\n",
       "      <td>0</td>\n",
       "      <td>0</td>\n",
       "      <td>250.0</td>\n",
       "      <td>121.0</td>\n",
       "      <td>81.0</td>\n",
       "      <td>28.73</td>\n",
       "      <td>95.0</td>\n",
       "      <td>76.0</td>\n",
       "    </tr>\n",
       "    <tr>\n",
       "      <th>2</th>\n",
       "      <td>1</td>\n",
       "      <td>48</td>\n",
       "      <td>1.0</td>\n",
       "      <td>1</td>\n",
       "      <td>20.0</td>\n",
       "      <td>0.0</td>\n",
       "      <td>0</td>\n",
       "      <td>0</td>\n",
       "      <td>0</td>\n",
       "      <td>245.0</td>\n",
       "      <td>127.5</td>\n",
       "      <td>80.0</td>\n",
       "      <td>25.34</td>\n",
       "      <td>75.0</td>\n",
       "      <td>70.0</td>\n",
       "    </tr>\n",
       "    <tr>\n",
       "      <th>3</th>\n",
       "      <td>0</td>\n",
       "      <td>61</td>\n",
       "      <td>3.0</td>\n",
       "      <td>1</td>\n",
       "      <td>30.0</td>\n",
       "      <td>0.0</td>\n",
       "      <td>0</td>\n",
       "      <td>1</td>\n",
       "      <td>0</td>\n",
       "      <td>225.0</td>\n",
       "      <td>150.0</td>\n",
       "      <td>95.0</td>\n",
       "      <td>28.58</td>\n",
       "      <td>65.0</td>\n",
       "      <td>103.0</td>\n",
       "    </tr>\n",
       "    <tr>\n",
       "      <th>4</th>\n",
       "      <td>0</td>\n",
       "      <td>46</td>\n",
       "      <td>3.0</td>\n",
       "      <td>1</td>\n",
       "      <td>23.0</td>\n",
       "      <td>0.0</td>\n",
       "      <td>0</td>\n",
       "      <td>0</td>\n",
       "      <td>0</td>\n",
       "      <td>285.0</td>\n",
       "      <td>130.0</td>\n",
       "      <td>84.0</td>\n",
       "      <td>23.10</td>\n",
       "      <td>85.0</td>\n",
       "      <td>85.0</td>\n",
       "    </tr>\n",
       "  </tbody>\n",
       "</table>\n",
       "</div>"
      ],
      "text/plain": [
       "   Sex  age  education  currentSmoker  cigsPerDay  BPMeds  prevalentStroke  \\\n",
       "0    1   39        4.0              0         0.0     0.0                0   \n",
       "1    0   46        2.0              0         0.0     0.0                0   \n",
       "2    1   48        1.0              1        20.0     0.0                0   \n",
       "3    0   61        3.0              1        30.0     0.0                0   \n",
       "4    0   46        3.0              1        23.0     0.0                0   \n",
       "\n",
       "   prevalentHyp  diabetes  totChol  sysBP  diaBP    BMI  heartRate  glucose  \n",
       "0             0         0    195.0  106.0   70.0  26.97       80.0     77.0  \n",
       "1             0         0    250.0  121.0   81.0  28.73       95.0     76.0  \n",
       "2             0         0    245.0  127.5   80.0  25.34       75.0     70.0  \n",
       "3             1         0    225.0  150.0   95.0  28.58       65.0    103.0  \n",
       "4             0         0    285.0  130.0   84.0  23.10       85.0     85.0  "
      ]
     },
     "execution_count": 127,
     "metadata": {},
     "output_type": "execute_result"
    }
   ],
   "source": [
    "_X.head()"
   ]
  },
  {
   "cell_type": "code",
   "execution_count": 128,
   "id": "1783c19a",
   "metadata": {},
   "outputs": [
    {
     "data": {
      "text/plain": [
       "0    0\n",
       "1    0\n",
       "2    0\n",
       "3    1\n",
       "4    0\n",
       "Name: TenYearCHD, dtype: int64"
      ]
     },
     "execution_count": 128,
     "metadata": {},
     "output_type": "execute_result"
    }
   ],
   "source": [
    "_Y.head()"
   ]
  },
  {
   "cell_type": "markdown",
   "id": "66ae2f66",
   "metadata": {},
   "source": [
    "## Data balancing"
   ]
  },
  {
   "cell_type": "code",
   "execution_count": 129,
   "id": "dc8ae0a9",
   "metadata": {},
   "outputs": [],
   "source": [
    "from imblearn.combine import SMOTEENN"
   ]
  },
  {
   "cell_type": "code",
   "execution_count": 130,
   "id": "e264c119",
   "metadata": {},
   "outputs": [],
   "source": [
    "SMOTEENN = SMOTEENN()\n",
    "_X, _Y = SMOTEENN.fit_resample(_X, _Y)"
   ]
  },
  {
   "cell_type": "code",
   "execution_count": 131,
   "id": "a9b77799",
   "metadata": {},
   "outputs": [
    {
     "data": {
      "text/plain": [
       "1    2848\n",
       "0    1705\n",
       "Name: TenYearCHD, dtype: int64"
      ]
     },
     "execution_count": 131,
     "metadata": {},
     "output_type": "execute_result"
    }
   ],
   "source": [
    "_Y.value_counts()"
   ]
  },
  {
   "cell_type": "code",
   "execution_count": 132,
   "id": "ed611e50",
   "metadata": {},
   "outputs": [
    {
     "data": {
      "text/plain": [
       "<AxesSubplot:>"
      ]
     },
     "execution_count": 132,
     "metadata": {},
     "output_type": "execute_result"
    },
    {
     "data": {
      "image/png": "[encoded data removed]",
      "text/plain": [
       "<Figure size 432x288 with 1 Axes>"
      ]
     },
     "metadata": {
      "needs_background": "light"
     },
     "output_type": "display_data"
    }
   ],
   "source": [
    "_Y.value_counts().plot(kind='bar')"
   ]
  },
  {
   "cell_type": "code",
   "execution_count": 92,
   "id": "57fee1ec",
   "metadata": {},
   "outputs": [],
   "source": [
    "def plotPerColumnDistribution(df, nGraphShown, nGraphPerRow):\n",
    "    nunique = df.nunique()\n",
    "    df = df[[col for col in df if nunique[col] > 1 and nunique[col] < 50]] # For displaying purposes, pick columns that have between 1 and 50 unique values\n",
    "    nRow, nCol = df.shape\n",
    "    columnNames = list(df)\n",
    "    nGraphRow = (nCol + nGraphPerRow - 1) / nGraphPerRow\n",
    "    plt.figure(num = None, figsize = (6 * nGraphPerRow, 8 * nGraphRow), dpi = 80, facecolor = 'w', edgecolor = 'k')\n",
    "    for i in range(min(nCol, nGraphShown)):\n",
    "        plt.subplot(nGraphRow, nGraphPerRow, i + 1)\n",
    "        columnDf = df.iloc[:, i]\n",
    "        if (not np.issubdtype(type(columnDf.iloc[0]), np.number)):\n",
    "            valueCounts = columnDf.value_counts()\n",
    "            valueCounts.plot.bar()\n",
    "        else:\n",
    "            columnDf.hist()\n",
    "        plt.ylabel('counts')\n",
    "        plt.xticks(rotation = 90)\n",
    "        plt.title(f'{columnNames[i]} (column {i})')\n",
    "    plt.tight_layout(pad = 1.0, w_pad = 1.0, h_pad = 1.0)\n",
    "    plt.show()"
   ]
  },
  {
   "cell_type": "code",
   "execution_count": 93,
   "id": "4d4ff1f4",
   "metadata": {},
   "outputs": [
    {
     "name": "stderr",
     "output_type": "stream",
     "text": [
      "C:\\Users\\Chamod\\AppData\\Local\\Temp/ipykernel_18816/1562888048.py:9: MatplotlibDeprecationWarning: Passing non-integers as three-element position specification is deprecated since 3.3 and will be removed two minor releases later.\n",
      "  plt.subplot(nGraphRow, nGraphPerRow, i + 1)\n"
     ]
    },
    {
     "data": {
      "image/png": "[encoded data removed]",
      "text/plain": [
       "<Figure size 2400x1792 with 10 Axes>"
      ]
     },
     "metadata": {},
     "output_type": "display_data"
    }
   ],
   "source": [
    "plotPerColumnDistribution(df, 10, 5)"
   ]
  },
  {
   "cell_type": "markdown",
   "id": "d70699a6",
   "metadata": {},
   "source": [
    "## Feature Scaling"
   ]
  },
  {
   "cell_type": "code",
   "execution_count": 28,
   "id": "5fe10902",
   "metadata": {},
   "outputs": [],
   "source": [
    "from sklearn.preprocessing import StandardScaler\n",
    "for col in _X:\n",
    "    scaler = StandardScaler()\n",
    "    _X[col] = scaler.fit_transform(_X[[col]])"
   ]
  },
  {
   "cell_type": "code",
   "execution_count": 29,
   "id": "3d70fae0",
   "metadata": {},
   "outputs": [
    {
     "data": {
      "text/html": [
       "<div>\n",
       "<style scoped>\n",
       "    .dataframe tbody tr th:only-of-type {\n",
       "        vertical-align: middle;\n",
       "    }\n",
       "\n",
       "    .dataframe tbody tr th {\n",
       "        vertical-align: top;\n",
       "    }\n",
       "\n",
       "    .dataframe thead th {\n",
       "        text-align: right;\n",
       "    }\n",
       "</style>\n",
       "<table border=\"1\" class=\"dataframe\">\n",
       "  <thead>\n",
       "    <tr style=\"text-align: right;\">\n",
       "      <th></th>\n",
       "      <th>Sex</th>\n",
       "      <th>age</th>\n",
       "      <th>education</th>\n",
       "      <th>currentSmoker</th>\n",
       "      <th>cigsPerDay</th>\n",
       "      <th>BPMeds</th>\n",
       "      <th>prevalentStroke</th>\n",
       "      <th>prevalentHyp</th>\n",
       "      <th>diabetes</th>\n",
       "      <th>totChol</th>\n",
       "      <th>sysBP</th>\n",
       "      <th>diaBP</th>\n",
       "      <th>BMI</th>\n",
       "      <th>heartRate</th>\n",
       "      <th>glucose</th>\n",
       "    </tr>\n",
       "  </thead>\n",
       "  <tbody>\n",
       "    <tr>\n",
       "      <th>0</th>\n",
       "      <td>1.242514</td>\n",
       "      <td>-1.490581</td>\n",
       "      <td>2.185997</td>\n",
       "      <td>-0.855054</td>\n",
       "      <td>-0.784475</td>\n",
       "      <td>-0.254573</td>\n",
       "      <td>-0.053329</td>\n",
       "      <td>-0.724885</td>\n",
       "      <td>-0.176836</td>\n",
       "      <td>-1.023187</td>\n",
       "      <td>-1.259918</td>\n",
       "      <td>-1.125746</td>\n",
       "      <td>0.229645</td>\n",
       "      <td>0.365103</td>\n",
       "      <td>-0.240492</td>\n",
       "    </tr>\n",
       "    <tr>\n",
       "      <th>1</th>\n",
       "      <td>-0.804820</td>\n",
       "      <td>-0.643257</td>\n",
       "      <td>0.073131</td>\n",
       "      <td>-0.855054</td>\n",
       "      <td>-0.784475</td>\n",
       "      <td>-0.254573</td>\n",
       "      <td>-0.053329</td>\n",
       "      <td>-0.724885</td>\n",
       "      <td>-0.176836</td>\n",
       "      <td>0.213500</td>\n",
       "      <td>-0.661436</td>\n",
       "      <td>-0.289606</td>\n",
       "      <td>0.688477</td>\n",
       "      <td>1.687984</td>\n",
       "      <td>-0.270196</td>\n",
       "    </tr>\n",
       "    <tr>\n",
       "      <th>2</th>\n",
       "      <td>-0.804820</td>\n",
       "      <td>-0.643257</td>\n",
       "      <td>1.129564</td>\n",
       "      <td>1.169516</td>\n",
       "      <td>1.145057</td>\n",
       "      <td>-0.254573</td>\n",
       "      <td>-0.053329</td>\n",
       "      <td>-0.724885</td>\n",
       "      <td>-0.176836</td>\n",
       "      <td>1.000482</td>\n",
       "      <td>-0.302348</td>\n",
       "      <td>-0.061567</td>\n",
       "      <td>-0.779262</td>\n",
       "      <td>0.806063</td>\n",
       "      <td>-0.002858</td>\n",
       "    </tr>\n",
       "    <tr>\n",
       "      <th>3</th>\n",
       "      <td>1.242514</td>\n",
       "      <td>0.083021</td>\n",
       "      <td>-0.983302</td>\n",
       "      <td>-0.855054</td>\n",
       "      <td>-0.784475</td>\n",
       "      <td>-0.254573</td>\n",
       "      <td>-0.053329</td>\n",
       "      <td>1.379530</td>\n",
       "      <td>-0.176836</td>\n",
       "      <td>0.438352</td>\n",
       "      <td>0.156488</td>\n",
       "      <td>0.318496</td>\n",
       "      <td>0.070619</td>\n",
       "      <td>0.012335</td>\n",
       "      <td>-0.181083</td>\n",
       "    </tr>\n",
       "    <tr>\n",
       "      <th>4</th>\n",
       "      <td>-0.804820</td>\n",
       "      <td>-1.006396</td>\n",
       "      <td>0.073131</td>\n",
       "      <td>-0.855054</td>\n",
       "      <td>-0.784475</td>\n",
       "      <td>-0.254573</td>\n",
       "      <td>-0.053329</td>\n",
       "      <td>-0.724885</td>\n",
       "      <td>-0.176836</td>\n",
       "      <td>0.146044</td>\n",
       "      <td>-0.262449</td>\n",
       "      <td>0.242484</td>\n",
       "      <td>0.404314</td>\n",
       "      <td>-0.340434</td>\n",
       "      <td>-0.715759</td>\n",
       "    </tr>\n",
       "  </tbody>\n",
       "</table>\n",
       "</div>"
      ],
      "text/plain": [
       "        Sex       age  education  currentSmoker  cigsPerDay    BPMeds  \\\n",
       "0  1.242514 -1.490581   2.185997      -0.855054   -0.784475 -0.254573   \n",
       "1 -0.804820 -0.643257   0.073131      -0.855054   -0.784475 -0.254573   \n",
       "2 -0.804820 -0.643257   1.129564       1.169516    1.145057 -0.254573   \n",
       "3  1.242514  0.083021  -0.983302      -0.855054   -0.784475 -0.254573   \n",
       "4 -0.804820 -1.006396   0.073131      -0.855054   -0.784475 -0.254573   \n",
       "\n",
       "   prevalentStroke  prevalentHyp  diabetes   totChol     sysBP     diaBP  \\\n",
       "0        -0.053329     -0.724885 -0.176836 -1.023187 -1.259918 -1.125746   \n",
       "1        -0.053329     -0.724885 -0.176836  0.213500 -0.661436 -0.289606   \n",
       "2        -0.053329     -0.724885 -0.176836  1.000482 -0.302348 -0.061567   \n",
       "3        -0.053329      1.379530 -0.176836  0.438352  0.156488  0.318496   \n",
       "4        -0.053329     -0.724885 -0.176836  0.146044 -0.262449  0.242484   \n",
       "\n",
       "        BMI  heartRate   glucose  \n",
       "0  0.229645   0.365103 -0.240492  \n",
       "1  0.688477   1.687984 -0.270196  \n",
       "2 -0.779262   0.806063 -0.002858  \n",
       "3  0.070619   0.012335 -0.181083  \n",
       "4  0.404314  -0.340434 -0.715759  "
      ]
     },
     "execution_count": 29,
     "metadata": {},
     "output_type": "execute_result"
    }
   ],
   "source": [
    "_X.head()"
   ]
  },
  {
   "cell_type": "code",
   "execution_count": 30,
   "id": "80f2ff3d",
   "metadata": {},
   "outputs": [],
   "source": [
    "from sklearn.model_selection import train_test_split\n",
    "X_train,X_test,y_train,y_test=train_test_split(_X, _Y, test_size = 0.2, random_state = 0)"
   ]
  },
  {
   "cell_type": "markdown",
   "id": "8b34b36f",
   "metadata": {},
   "source": [
    "## Feature Selection"
   ]
  },
  {
   "cell_type": "code",
   "execution_count": 31,
   "id": "ed857b1a",
   "metadata": {},
   "outputs": [
    {
     "data": {
      "text/plain": [
       "array([0.00780379, 0.12435093, 0.21517388, 0.        , 0.12879074,\n",
       "       0.02751987, 0.00114296, 0.01369788, 0.00537176, 0.2526126 ,\n",
       "       0.29131469, 0.30374943, 0.06512111, 0.30642588, 0.31924862])"
      ]
     },
     "execution_count": 31,
     "metadata": {},
     "output_type": "execute_result"
    }
   ],
   "source": [
    "from sklearn.feature_selection import mutual_info_classif\n",
    "mutual_info = mutual_info_classif(X_train, y_train)\n",
    "mutual_info"
   ]
  },
  {
   "cell_type": "code",
   "execution_count": 32,
   "id": "0deda882",
   "metadata": {},
   "outputs": [
    {
     "data": {
      "text/plain": [
       "glucose            0.319249\n",
       "heartRate          0.306426\n",
       "diaBP              0.303749\n",
       "sysBP              0.291315\n",
       "totChol            0.252613\n",
       "education          0.215174\n",
       "cigsPerDay         0.128791\n",
       "age                0.124351\n",
       "BMI                0.065121\n",
       "BPMeds             0.027520\n",
       "prevalentHyp       0.013698\n",
       "Sex                0.007804\n",
       "diabetes           0.005372\n",
       "prevalentStroke    0.001143\n",
       "currentSmoker      0.000000\n",
       "dtype: float64"
      ]
     },
     "execution_count": 32,
     "metadata": {},
     "output_type": "execute_result"
    }
   ],
   "source": [
    "mutual_info = pd.Series(mutual_info)\n",
    "mutual_info.index = X_train.columns\n",
    "mutual_info.sort_values(ascending=False)"
   ]
  },
  {
   "cell_type": "code",
   "execution_count": 33,
   "id": "eab9fbb0",
   "metadata": {},
   "outputs": [
    {
     "data": {
      "text/plain": [
       "<AxesSubplot:>"
      ]
     },
     "execution_count": 33,
     "metadata": {},
     "output_type": "execute_result"
    },
    {
     "data": {
      "image/png": "[encoded data removed]",
      "text/plain": [
       "<Figure size 1440x576 with 1 Axes>"
      ]
     },
     "metadata": {
      "needs_background": "light"
     },
     "output_type": "display_data"
    }
   ],
   "source": [
    "mutual_info.sort_values(ascending=False).plot.bar(figsize=(20, 8))"
   ]
  },
  {
   "cell_type": "code",
   "execution_count": 34,
   "id": "67733002",
   "metadata": {},
   "outputs": [],
   "source": [
    "X_train = X_train.drop([\"diabetes\", \"education\", \"currentSmoker\", \"prevalentStroke\"], axis=1)\n",
    "X_test = X_test.drop([\"diabetes\", \"education\", \"currentSmoker\", \"prevalentStroke\"], axis=1)"
   ]
  },
  {
   "cell_type": "code",
   "execution_count": 35,
   "id": "b5936086",
   "metadata": {},
   "outputs": [
    {
     "data": {
      "text/html": [
       "<div>\n",
       "<style scoped>\n",
       "    .dataframe tbody tr th:only-of-type {\n",
       "        vertical-align: middle;\n",
       "    }\n",
       "\n",
       "    .dataframe tbody tr th {\n",
       "        vertical-align: top;\n",
       "    }\n",
       "\n",
       "    .dataframe thead th {\n",
       "        text-align: right;\n",
       "    }\n",
       "</style>\n",
       "<table border=\"1\" class=\"dataframe\">\n",
       "  <thead>\n",
       "    <tr style=\"text-align: right;\">\n",
       "      <th></th>\n",
       "      <th>Sex</th>\n",
       "      <th>age</th>\n",
       "      <th>cigsPerDay</th>\n",
       "      <th>BPMeds</th>\n",
       "      <th>prevalentHyp</th>\n",
       "      <th>totChol</th>\n",
       "      <th>sysBP</th>\n",
       "      <th>diaBP</th>\n",
       "      <th>BMI</th>\n",
       "      <th>heartRate</th>\n",
       "      <th>glucose</th>\n",
       "    </tr>\n",
       "  </thead>\n",
       "  <tbody>\n",
       "    <tr>\n",
       "      <th>2658</th>\n",
       "      <td>1.242514</td>\n",
       "      <td>0.809299</td>\n",
       "      <td>0.275497</td>\n",
       "      <td>-0.254573</td>\n",
       "      <td>-0.724885</td>\n",
       "      <td>-0.154474</td>\n",
       "      <td>-0.121851</td>\n",
       "      <td>-0.715522</td>\n",
       "      <td>-0.919513</td>\n",
       "      <td>-0.145843</td>\n",
       "      <td>-0.733677</td>\n",
       "    </tr>\n",
       "    <tr>\n",
       "      <th>1473</th>\n",
       "      <td>-0.804820</td>\n",
       "      <td>-1.006396</td>\n",
       "      <td>0.893379</td>\n",
       "      <td>-0.254573</td>\n",
       "      <td>-0.724885</td>\n",
       "      <td>0.798115</td>\n",
       "      <td>-1.539209</td>\n",
       "      <td>-1.733848</td>\n",
       "      <td>-1.021713</td>\n",
       "      <td>-1.398739</td>\n",
       "      <td>-0.151379</td>\n",
       "    </tr>\n",
       "    <tr>\n",
       "      <th>34</th>\n",
       "      <td>-0.804820</td>\n",
       "      <td>-0.522210</td>\n",
       "      <td>0.893379</td>\n",
       "      <td>-0.254573</td>\n",
       "      <td>-0.724885</td>\n",
       "      <td>-0.461057</td>\n",
       "      <td>-0.202601</td>\n",
       "      <td>0.166471</td>\n",
       "      <td>0.492952</td>\n",
       "      <td>-0.957778</td>\n",
       "      <td>-0.299900</td>\n",
       "    </tr>\n",
       "    <tr>\n",
       "      <th>3287</th>\n",
       "      <td>1.242514</td>\n",
       "      <td>0.325114</td>\n",
       "      <td>-0.784475</td>\n",
       "      <td>-0.254573</td>\n",
       "      <td>-0.724885</td>\n",
       "      <td>-0.837735</td>\n",
       "      <td>0.003420</td>\n",
       "      <td>0.477264</td>\n",
       "      <td>1.082093</td>\n",
       "      <td>0.482963</td>\n",
       "      <td>-0.543711</td>\n",
       "    </tr>\n",
       "    <tr>\n",
       "      <th>3723</th>\n",
       "      <td>-0.804820</td>\n",
       "      <td>0.446160</td>\n",
       "      <td>-0.525786</td>\n",
       "      <td>0.575420</td>\n",
       "      <td>1.379530</td>\n",
       "      <td>0.469552</td>\n",
       "      <td>1.377970</td>\n",
       "      <td>1.186783</td>\n",
       "      <td>1.503633</td>\n",
       "      <td>-1.547928</td>\n",
       "      <td>-0.338635</td>\n",
       "    </tr>\n",
       "  </tbody>\n",
       "</table>\n",
       "</div>"
      ],
      "text/plain": [
       "           Sex       age  cigsPerDay    BPMeds  prevalentHyp   totChol  \\\n",
       "2658  1.242514  0.809299    0.275497 -0.254573     -0.724885 -0.154474   \n",
       "1473 -0.804820 -1.006396    0.893379 -0.254573     -0.724885  0.798115   \n",
       "34   -0.804820 -0.522210    0.893379 -0.254573     -0.724885 -0.461057   \n",
       "3287  1.242514  0.325114   -0.784475 -0.254573     -0.724885 -0.837735   \n",
       "3723 -0.804820  0.446160   -0.525786  0.575420      1.379530  0.469552   \n",
       "\n",
       "         sysBP     diaBP       BMI  heartRate   glucose  \n",
       "2658 -0.121851 -0.715522 -0.919513  -0.145843 -0.733677  \n",
       "1473 -1.539209 -1.733848 -1.021713  -1.398739 -0.151379  \n",
       "34   -0.202601  0.166471  0.492952  -0.957778 -0.299900  \n",
       "3287  0.003420  0.477264  1.082093   0.482963 -0.543711  \n",
       "3723  1.377970  1.186783  1.503633  -1.547928 -0.338635  "
      ]
     },
     "execution_count": 35,
     "metadata": {},
     "output_type": "execute_result"
    }
   ],
   "source": [
    "X_train.head(5)"
   ]
  },
  {
   "cell_type": "code",
   "execution_count": 36,
   "id": "40a0918d",
   "metadata": {},
   "outputs": [
    {
     "data": {
      "text/html": [
       "<div>\n",
       "<style scoped>\n",
       "    .dataframe tbody tr th:only-of-type {\n",
       "        vertical-align: middle;\n",
       "    }\n",
       "\n",
       "    .dataframe tbody tr th {\n",
       "        vertical-align: top;\n",
       "    }\n",
       "\n",
       "    .dataframe thead th {\n",
       "        text-align: right;\n",
       "    }\n",
       "</style>\n",
       "<table border=\"1\" class=\"dataframe\">\n",
       "  <thead>\n",
       "    <tr style=\"text-align: right;\">\n",
       "      <th></th>\n",
       "      <th>Sex</th>\n",
       "      <th>age</th>\n",
       "      <th>cigsPerDay</th>\n",
       "      <th>BPMeds</th>\n",
       "      <th>prevalentHyp</th>\n",
       "      <th>totChol</th>\n",
       "      <th>sysBP</th>\n",
       "      <th>diaBP</th>\n",
       "      <th>BMI</th>\n",
       "      <th>heartRate</th>\n",
       "      <th>glucose</th>\n",
       "    </tr>\n",
       "  </thead>\n",
       "  <tbody>\n",
       "    <tr>\n",
       "      <th>2465</th>\n",
       "      <td>-0.804820</td>\n",
       "      <td>-0.038025</td>\n",
       "      <td>0.893379</td>\n",
       "      <td>-0.254573</td>\n",
       "      <td>-0.724885</td>\n",
       "      <td>0.523895</td>\n",
       "      <td>0.082327</td>\n",
       "      <td>0.318496</td>\n",
       "      <td>0.847110</td>\n",
       "      <td>-0.507235</td>\n",
       "      <td>-0.272133</td>\n",
       "    </tr>\n",
       "    <tr>\n",
       "      <th>2089</th>\n",
       "      <td>1.242514</td>\n",
       "      <td>-0.643257</td>\n",
       "      <td>1.732306</td>\n",
       "      <td>-0.254573</td>\n",
       "      <td>1.379530</td>\n",
       "      <td>-1.203068</td>\n",
       "      <td>0.096640</td>\n",
       "      <td>0.698560</td>\n",
       "      <td>-0.466422</td>\n",
       "      <td>2.128945</td>\n",
       "      <td>-0.537534</td>\n",
       "    </tr>\n",
       "    <tr>\n",
       "      <th>220</th>\n",
       "      <td>-0.804820</td>\n",
       "      <td>-1.127442</td>\n",
       "      <td>-0.784475</td>\n",
       "      <td>-0.254573</td>\n",
       "      <td>-0.724885</td>\n",
       "      <td>-1.180583</td>\n",
       "      <td>-0.601588</td>\n",
       "      <td>-0.745682</td>\n",
       "      <td>-0.398641</td>\n",
       "      <td>1.158832</td>\n",
       "      <td>-0.507829</td>\n",
       "    </tr>\n",
       "    <tr>\n",
       "      <th>939</th>\n",
       "      <td>1.242514</td>\n",
       "      <td>-0.280118</td>\n",
       "      <td>0.893379</td>\n",
       "      <td>-0.254573</td>\n",
       "      <td>-0.724885</td>\n",
       "      <td>-0.775849</td>\n",
       "      <td>-1.459411</td>\n",
       "      <td>-1.201759</td>\n",
       "      <td>0.602446</td>\n",
       "      <td>0.806063</td>\n",
       "      <td>-0.091971</td>\n",
       "    </tr>\n",
       "    <tr>\n",
       "      <th>2864</th>\n",
       "      <td>1.242514</td>\n",
       "      <td>-0.401164</td>\n",
       "      <td>0.893379</td>\n",
       "      <td>-0.254573</td>\n",
       "      <td>-0.724885</td>\n",
       "      <td>0.018291</td>\n",
       "      <td>-0.331103</td>\n",
       "      <td>0.082812</td>\n",
       "      <td>1.061981</td>\n",
       "      <td>0.700128</td>\n",
       "      <td>-0.265380</td>\n",
       "    </tr>\n",
       "  </tbody>\n",
       "</table>\n",
       "</div>"
      ],
      "text/plain": [
       "           Sex       age  cigsPerDay    BPMeds  prevalentHyp   totChol  \\\n",
       "2465 -0.804820 -0.038025    0.893379 -0.254573     -0.724885  0.523895   \n",
       "2089  1.242514 -0.643257    1.732306 -0.254573      1.379530 -1.203068   \n",
       "220  -0.804820 -1.127442   -0.784475 -0.254573     -0.724885 -1.180583   \n",
       "939   1.242514 -0.280118    0.893379 -0.254573     -0.724885 -0.775849   \n",
       "2864  1.242514 -0.401164    0.893379 -0.254573     -0.724885  0.018291   \n",
       "\n",
       "         sysBP     diaBP       BMI  heartRate   glucose  \n",
       "2465  0.082327  0.318496  0.847110  -0.507235 -0.272133  \n",
       "2089  0.096640  0.698560 -0.466422   2.128945 -0.537534  \n",
       "220  -0.601588 -0.745682 -0.398641   1.158832 -0.507829  \n",
       "939  -1.459411 -1.201759  0.602446   0.806063 -0.091971  \n",
       "2864 -0.331103  0.082812  1.061981   0.700128 -0.265380  "
      ]
     },
     "execution_count": 36,
     "metadata": {},
     "output_type": "execute_result"
    }
   ],
   "source": [
    "X_test.head()"
   ]
  },
  {
   "cell_type": "markdown",
   "id": "54418d80",
   "metadata": {},
   "source": [
    "## Model training SVC"
   ]
  },
  {
   "cell_type": "code",
   "execution_count": 37,
   "id": "f2dbaa0c",
   "metadata": {},
   "outputs": [
    {
     "name": "stdout",
     "output_type": "stream",
     "text": [
      "traning accuracy - 0.8118352877011181\n",
      "model accuracy - 0.8211559432933478\n"
     ]
    }
   ],
   "source": [
    "from sklearn.svm import SVC \n",
    "SVC = SVC()  \n",
    "SVC.fit(X_train.values, y_train.values) \n",
    "SCV_result = SVC.predict(X_test.values)\n",
    "print(\"traning accuracy -\", SVC.score(X_train.values, y_train.values))\n",
    "print(\"model accuracy -\", SVC.score(X_test.values, y_test.values))"
   ]
  },
  {
   "cell_type": "markdown",
   "id": "e327a90b",
   "metadata": {},
   "source": [
    "## Model training RandomForestClassifier"
   ]
  },
  {
   "cell_type": "code",
   "execution_count": 77,
   "id": "3d99518e",
   "metadata": {},
   "outputs": [
    {
     "name": "stdout",
     "output_type": "stream",
     "text": [
      "traning accuracy - 1.0\n",
      "model accuracy - 0.9083969465648855\n"
     ]
    }
   ],
   "source": [
    "from sklearn.ensemble import RandomForestClassifier\n",
    "from sklearn.metrics import confusion_matrix\n",
    "from sklearn.metrics import classification_report\n",
    "RF = RandomForestClassifier()\n",
    "RF.fit(X_train.values, y_train.values)\n",
    "RF_result = RF.predict(X_test.values)  \n",
    "print(\"traning accuracy -\", RF.score(X_train.values, y_train.values))\n",
    "print(\"model accuracy -\", RF.score(X_test.values, y_test.values))"
   ]
  },
  {
   "cell_type": "code",
   "execution_count": 39,
   "id": "08ddbd9f",
   "metadata": {
    "scrolled": true
   },
   "outputs": [
    {
     "name": "stdout",
     "output_type": "stream",
     "text": [
      "traning accuracy - 1.0\n",
      "model accuracy - 0.920392584514722\n",
      "\n",
      "confusion_matrix\n",
      " [[311  53]\n",
      " [ 20 533]] \n",
      "\n",
      "\n",
      "classification_report\n",
      "               precision    recall  f1-score   support\n",
      "\n",
      "           0       0.94      0.85      0.89       364\n",
      "           1       0.91      0.96      0.94       553\n",
      "\n",
      "    accuracy                           0.92       917\n",
      "   macro avg       0.92      0.91      0.92       917\n",
      "weighted avg       0.92      0.92      0.92       917\n",
      "\n"
     ]
    }
   ],
   "source": [
    "from sklearn.ensemble import RandomForestClassifier\n",
    "from sklearn.metrics import confusion_matrix\n",
    "from sklearn.metrics import classification_report\n",
    "RF = RandomForestClassifier(n_estimators=100, max_depth=80, max_features=\"sqrt\")\n",
    "RF.fit(X_train.values, y_train.values)\n",
    "RF_result = RF.predict(X_test.values)  \n",
    "print(\"traning accuracy -\", RF.score(X_train.values, y_train.values))\n",
    "print(\"model accuracy -\", RF.score(X_test.values, y_test.values))\n",
    "print(\"\\nconfusion_matrix\\n\", confusion_matrix(y_test.values, RF_result), \"\\n\\n\")\n",
    "print(\"classification_report\\n\", classification_report(y_test.values, RF_result))"
   ]
  },
  {
   "cell_type": "markdown",
   "id": "3fde65f1",
   "metadata": {},
   "source": [
    "## Model training DecisionTreeClassifier"
   ]
  },
  {
   "cell_type": "code",
   "execution_count": 40,
   "id": "30f150b5",
   "metadata": {},
   "outputs": [
    {
     "name": "stdout",
     "output_type": "stream",
     "text": [
      "traning accuracy - 1.0\n",
      "model accuracy - 0.8255179934569248\n"
     ]
    }
   ],
   "source": [
    "from sklearn.tree import DecisionTreeClassifier  \n",
    "DT= DecisionTreeClassifier()  \n",
    "DT.fit(X_train.values, y_train.values)  \n",
    "DT_result = DT.predict(X_test.values)  \n",
    "print(\"traning accuracy -\", DT.score(X_train.values, y_train.values))\n",
    "print(\"model accuracy -\", DT.score(X_test.values, y_test.values))"
   ]
  },
  {
   "cell_type": "markdown",
   "id": "dd330934",
   "metadata": {},
   "source": [
    "## Model training LogisticRegression"
   ]
  },
  {
   "cell_type": "code",
   "execution_count": 41,
   "id": "39bb52dc",
   "metadata": {},
   "outputs": [
    {
     "name": "stdout",
     "output_type": "stream",
     "text": [
      "traning accuracy - 0.7624761385328607\n",
      "model accuracy - 0.777535441657579\n"
     ]
    }
   ],
   "source": [
    "from sklearn.linear_model import LogisticRegression\n",
    "LR = LogisticRegression()\n",
    "LR.fit(X_train.values, y_train.values)\n",
    "LR_result = LR.predict(X_test.values)  \n",
    "print(\"traning accuracy -\", LR.score(X_train.values, y_train.values))\n",
    "print(\"model accuracy -\", LR.score(X_test.values, y_test.values))"
   ]
  },
  {
   "cell_type": "markdown",
   "id": "be2c64d1",
   "metadata": {},
   "source": [
    "## Model training GaussianNB"
   ]
  },
  {
   "cell_type": "code",
   "execution_count": 42,
   "id": "d71588db",
   "metadata": {},
   "outputs": [
    {
     "name": "stdout",
     "output_type": "stream",
     "text": [
      "traning accuracy - 0.6236705754022361\n",
      "model accuracy - 0.6510359869138496\n"
     ]
    }
   ],
   "source": [
    "from sklearn.naive_bayes import GaussianNB  \n",
    "NB = GaussianNB()  \n",
    "NB.fit(X_train.values, y_train.values)  \n",
    "NB_result = NB.predict(X_test.values)  \n",
    "print(\"traning accuracy -\", NB.score(X_train.values, y_train.values))\n",
    "print(\"model accuracy -\", NB.score(X_test.values, y_test.values))"
   ]
  },
  {
   "cell_type": "markdown",
   "id": "a24608e9",
   "metadata": {},
   "source": [
    "## Model training KNN"
   ]
  },
  {
   "cell_type": "code",
   "execution_count": 43,
   "id": "e694b299",
   "metadata": {},
   "outputs": [
    {
     "name": "stdout",
     "output_type": "stream",
     "text": [
      "traning accuracy - 0.8898281974365967\n",
      "model accuracy - 0.8473282442748091\n"
     ]
    }
   ],
   "source": [
    "from sklearn.neighbors import KNeighborsClassifier  \n",
    "KNN= KNeighborsClassifier() \n",
    "KNN.fit(X_train.values, y_train.values)\n",
    "KNN_result = KNN.predict(X_test.values) \n",
    "print(\"traning accuracy -\", KNN.score(X_train.values, y_train.values))\n",
    "print(\"model accuracy -\", KNN.score(X_test.values, y_test.values))"
   ]
  },
  {
   "cell_type": "code",
   "execution_count": 44,
   "id": "bdec62f9",
   "metadata": {},
   "outputs": [],
   "source": [
    "import pickle\n",
    "pickle.dump(RF, open('CHD_Model.pkl', 'wb'))"
   ]
  },
  {
   "cell_type": "code",
   "execution_count": 45,
   "id": "549c1cf9",
   "metadata": {},
   "outputs": [
    {
     "data": {
      "text/plain": [
       "array([1], dtype=int64)"
      ]
     },
     "execution_count": 45,
     "metadata": {},
     "output_type": "execute_result"
    }
   ],
   "source": [
    "pickled_model = pickle.load(open('model.pkl', 'rb'))\n",
    "pickled_model.predict([[-0.805686,-1.125461,1.305158,-0.24756,1.406547,0.019748,2.090708,2.655502,0.573747,-0.179466,-0.165622]])"
   ]
  },
  {
   "cell_type": "code",
   "execution_count": 46,
   "id": "caa43039",
   "metadata": {},
   "outputs": [],
   "source": [
    "mean_array = [0.429245, 49.580189, 9.005937, 0.029615, 0.310613, 236.699523, 132.354599, 82.897759, 25.800801, 75.878981,81.963655]\n",
    "std_array = [81.963655, 8.572942, 11.922462, 0.169544, 0.462799, 44.591284, 22.033300, 11.910394, 4.079840, 12.025348, 23.954335]\n",
    "def scale(array):\n",
    "    counter = 0\n",
    "    scaled_array = []\n",
    "    for value in array:\n",
    "        s_value = (value - mean_array[counter])/std_array[counter]\n",
    "        scaled_array.append(s_value)\n",
    "        counter = counter + 1\n",
    "    return scaled_array"
   ]
  },
  {
   "cell_type": "code",
   "execution_count": 47,
   "id": "631d290e",
   "metadata": {},
   "outputs": [
    {
     "data": {
      "text/plain": [
       "array([1], dtype=int64)"
      ]
     },
     "execution_count": 47,
     "metadata": {},
     "output_type": "execute_result"
    }
   ],
   "source": [
    "pickled_model.predict([np.asarray(scale([0,46,0,0,0,195,120,70,28.97,99, 0]))])"
   ]
  },
  {
   "cell_type": "code",
   "execution_count": 48,
   "id": "0bfc00fe",
   "metadata": {},
   "outputs": [
    {
     "data": {
      "text/plain": [
       "array([0], dtype=int64)"
      ]
     },
     "execution_count": 48,
     "metadata": {},
     "output_type": "execute_result"
    }
   ],
   "source": [
    "pickled_model.predict([np.asarray(scale([0,50,0,0,0,200,200,70,28.97,100, 100]))])"
   ]
  },
  {
   "cell_type": "code",
   "execution_count": 49,
   "id": "8dd6b041",
   "metadata": {},
   "outputs": [],
   "source": [
    "from sklearn.model_selection import GridSearchCV"
   ]
  },
  {
   "cell_type": "code",
   "execution_count": 50,
   "id": "0be1c002",
   "metadata": {},
   "outputs": [],
   "source": [
    "prams = {\n",
    "         'n_estimators': [82, 84],\n",
    "         'max_features': ['sqrt', 'log2'],\n",
    "         'max_depth' : [171, 172, 173],\n",
    "        }"
   ]
  },
  {
   "cell_type": "code",
   "execution_count": 78,
   "id": "422344ab",
   "metadata": {},
   "outputs": [
    {
     "data": {
      "text/plain": [
       "GridSearchCV(cv=5, estimator=RandomForestClassifier(),\n",
       "             param_grid={'max_depth': [171, 172, 173],\n",
       "                         'max_features': ['sqrt', 'log2'],\n",
       "                         'n_estimators': [82, 84]})"
      ]
     },
     "execution_count": 78,
     "metadata": {},
     "output_type": "execute_result"
    }
   ],
   "source": [
    "import warnings\n",
    "warnings.filterwarnings(\"ignore\")\n",
    "from sklearn.exceptions import FitFailedWarning \n",
    "RF_Model = RandomForestClassifier()\n",
    "gridS = GridSearchCV(RF_Model, prams, cv=5)\n",
    "gridS.fit(X_train.values, y_train.values)"
   ]
  },
  {
   "cell_type": "code",
   "execution_count": 79,
   "id": "8fb4c5de",
   "metadata": {},
   "outputs": [
    {
     "data": {
      "text/plain": [
       "RandomForestClassifier(max_depth=173, max_features='sqrt', n_estimators=82)"
      ]
     },
     "execution_count": 79,
     "metadata": {},
     "output_type": "execute_result"
    }
   ],
   "source": [
    "# gridS.best_estimator_"
   ]
  },
  {
   "cell_type": "code",
   "execution_count": 80,
   "id": "dce37566",
   "metadata": {},
   "outputs": [
    {
     "data": {
      "text/plain": [
       "0.8930969365564977"
      ]
     },
     "execution_count": 80,
     "metadata": {},
     "output_type": "execute_result"
    }
   ],
   "source": [
    "# gridS.best_score_"
   ]
  },
  {
   "cell_type": "code",
   "execution_count": 81,
   "id": "a152caba",
   "metadata": {},
   "outputs": [
    {
     "data": {
      "text/plain": [
       "{'max_depth': 173, 'max_features': 'sqrt', 'n_estimators': 82}"
      ]
     },
     "execution_count": 81,
     "metadata": {},
     "output_type": "execute_result"
    }
   ],
   "source": [
    "# gridS.best_params_"
   ]
  }
 ],
 "metadata": {
  "kernelspec": {
   "display_name": "Python 3 (ipykernel)",
   "language": "python",
   "name": "python3"
  },
  "language_info": {
   "codemirror_mode": {
    "name": "ipython",
    "version": 3
   },
   "file_extension": ".py",
   "mimetype": "text/x-python",
   "name": "python",
   "nbconvert_exporter": "python",
   "pygments_lexer": "ipython3",
   "version": "3.9.7"
  }
 },
 "nbformat": 4,
 "nbformat_minor": 5
}
